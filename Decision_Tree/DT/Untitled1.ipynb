{
 "cells": [
  {
   "cell_type": "code",
   "execution_count": 3,
   "id": "f43b56f3",
   "metadata": {},
   "outputs": [
    {
     "name": "stderr",
     "output_type": "stream",
     "text": [
      "[NbConvertApp] Converting notebook German_Credit_Data.ipynb to pdf\n",
      "[NbConvertApp] Support files will be in German_Credit_Data_files\\\n",
      "[NbConvertApp] Making directory .\\German_Credit_Data_files\n",
      "[NbConvertApp] Writing 150223 bytes to notebook.tex\n",
      "[NbConvertApp] Building PDF\n",
      "[NbConvertApp] Running xelatex 3 times: ['xelatex', 'notebook.tex', '-quiet']\n",
      "[NbConvertApp] Running bibtex 1 time: ['bibtex', 'notebook']\n",
      "[NbConvertApp] WARNING | b had problems, most likely because there were no citations\n",
      "[NbConvertApp] PDF successfully created\n",
      "[NbConvertApp] Writing 2927463 bytes to German_Credit_Data.pdf\n"
     ]
    }
   ],
   "source": [
    "!jupyter nbconvert --to pdf --template-file nodate.tex.j2 German_Credit_Data.ipynb"
   ]
  },
  {
   "cell_type": "code",
   "execution_count": null,
   "id": "84d55e90",
   "metadata": {},
   "outputs": [],
   "source": []
  }
 ],
 "metadata": {
  "kernelspec": {
   "display_name": "Python 3 (ipykernel)",
   "language": "python",
   "name": "python3"
  },
  "language_info": {
   "codemirror_mode": {
    "name": "ipython",
    "version": 3
   },
   "file_extension": ".py",
   "mimetype": "text/x-python",
   "name": "python",
   "nbconvert_exporter": "python",
   "pygments_lexer": "ipython3",
   "version": "3.9.13"
  }
 },
 "nbformat": 4,
 "nbformat_minor": 5
}
